{
 "cells": [
  {
   "cell_type": "markdown",
   "metadata": {},
   "source": [
    "# CE 49X - Lab 01: Building Energy Calculator\n",
    "\n",
    "**Student Name:** Hakan Arman  \n",
    "**Student ID:** 2021403228  \n",
    "**Date:** 08.10.2025\n",
    "\n",
    "---\n",
    "\n",
    "## Introduction\n",
    "\n",
    "Welcome to Lab 1! In this lab, you'll analyze building energy consumption using Python. Energy efficiency is crucial in civil engineering - buildings consume about 40% of global energy!\n",
    "\n",
    "You'll work with:\n",
    "- Variables and data types\n",
    "- Lists and dictionaries\n",
    "- Loops and conditionals\n",
    "- Functions\n",
    "- String formatting\n",
    "\n",
    "**Important:** Read the PDF instructions (`lab01_instructions.pdf`) for complete details!\n",
    "\n",
    "---"
   ]
  },
  {
   "cell_type": "markdown",
   "metadata": {},
   "source": [
    "## Exercise 1: Energy Consumption Basics (20 points)\n",
    "\n",
    "### Part A: Daily Energy Calculation (8 points)\n",
    "\n",
    "A commercial building has the following daily energy consumption:\n",
    "- Lighting: 450 kWh\n",
    "- HVAC: 1200 kWh\n",
    "- Equipment: 350 kWh\n",
    "- Other: 180 kWh\n",
    "\n",
    "**Tasks:**\n",
    "1. Create variables for each energy component\n",
    "2. Calculate total daily energy consumption\n",
    "3. Calculate monthly consumption (30 days)\n",
    "4. Print results with f-strings"
   ]
  },
  {
   "cell_type": "code",
   "execution_count": 9,
   "metadata": {
    "scrolled": true
   },
   "outputs": [
    {
     "name": "stdout",
     "output_type": "stream",
     "text": [
      "Daily Energy Consumption:\n",
      "  Lighting: 450.00 kWh\n",
      "  HVAC: 1200.00 kWh\n",
      "  Equipment: 350.00 kWh\n",
      "  Other: 180.00 kWh\n",
      "  Daily Total: 2180.00 kWh\n",
      "\n",
      "Monthly Consumption: 65400.00 kWh\n"
     ]
    }
   ],
   "source": [
    "# Exercise 1A: Daily Energy Calculation\n",
    "\n",
    "# TODO: Create variables for each energy component\n",
    "lighting = 450 # kWh\n",
    "hvac = 1200 # kWh\n",
    "equipment = 350 # kWh\n",
    "other = 180 # kWh\n",
    "\n",
    "# TODO: Calculate total daily consumption\n",
    "daily_total = lighting + hvac + equipment + other # We simply sum all the components\n",
    "\n",
    "# TODO: Calculate monthly consumption (30 days)\n",
    "monthly_total = daily_total * 30 \n",
    "\n",
    "# TODO: Print results using f-strings\n",
    "print(\"Daily Energy Consumption:\")\n",
    "print(f\"  Lighting: {lighting:.2f} kWh\")\n",
    "print(f\"  HVAC: {hvac:.2f} kWh\")\n",
    "print(f\"  Equipment: {equipment:.2f} kWh\")\n",
    "print(f\"  Other: {other:.2f} kWh\")\n",
    "print(f\"  Daily Total: {daily_total:.2f} kWh\")\n",
    "\n",
    "print(f\"\\nMonthly Consumption: {monthly_total:.2f} kWh\")"
   ]
  },
  {
   "cell_type": "markdown",
   "metadata": {},
   "source": [
    "### Part B: Unit Conversion (6 points)\n",
    "\n",
    "Convert the monthly energy consumption:\n",
    "- From kWh to MJ (1 kWh = 3.6 MJ)\n",
    "- From MJ to GJ (1 GJ = 1000 MJ)"
   ]
  },
  {
   "cell_type": "code",
   "execution_count": 10,
   "metadata": {},
   "outputs": [
    {
     "name": "stdout",
     "output_type": "stream",
     "text": [
      "Monthly Consumption:\n",
      "  65400.00 kWh\n",
      "  235440.00 MJ\n",
      "  235.44 GJ\n"
     ]
    }
   ],
   "source": [
    "# Exercise 1B: Unit Conversion\n",
    "\n",
    "# TODO: Convert monthly consumption to MJ\n",
    "monthly_mj = monthly_total * 3.6\n",
    "\n",
    "# TODO: Convert to GJ\n",
    "monthly_gj = monthly_mj / 1000\n",
    "\n",
    "# TODO: Print results\n",
    "print(f\"Monthly Consumption:\")\n",
    "print(f\"  {monthly_total:.2f} kWh\")\n",
    "print(f\"  {monthly_mj:.2f} MJ\")\n",
    "print(f\"  {monthly_gj:.2f} GJ\")"
   ]
  },
  {
   "cell_type": "markdown",
   "metadata": {},
   "source": [
    "### Part C: Cost Calculation (6 points)\n",
    "\n",
    "Calculate costs using standard rate: 0.12 USD/kWh"
   ]
  },
  {
   "cell_type": "code",
   "execution_count": 11,
   "metadata": {},
   "outputs": [
    {
     "name": "stdout",
     "output_type": "stream",
     "text": [
      "Energy Costs:\n",
      "  Monthly: $7,848.00\n",
      "  Annual: $94,176.00\n"
     ]
    }
   ],
   "source": [
    "# Exercise 1C: Cost Calculation\n",
    "\n",
    "# TODO: Define the rate\n",
    "standard_rate = 0.12  # USD/kWh\n",
    "\n",
    "# TODO: Calculate monthly cost\n",
    "monthly_cost = monthly_total * standard_rate\n",
    "\n",
    "# TODO: Calculate annual cost\n",
    "annual_cost = monthly_cost * 12\n",
    "\n",
    "# TODO: Print results formatted as currency\n",
    "print(f\"Energy Costs:\")\n",
    "print(f\"  Monthly: ${monthly_cost:,.2f}\")\n",
    "print(f\"  Annual: ${annual_cost:,.2f}\")"
   ]
  },
  {
   "cell_type": "markdown",
   "metadata": {},
   "source": [
    "---\n",
    "\n",
    "## Exercise 2: Building Energy Analysis (25 points)\n",
    "\n",
    "Analyze energy data for multiple buildings.\n",
    "\n",
    "### Given Data"
   ]
  },
  {
   "cell_type": "markdown",
   "metadata": {},
   "source": [
    "### Part A: Energy Intensity Calculation (10 points)\n",
    "\n",
    "Energy Intensity = Monthly Consumption / Floor Area (kWh/m²/month)"
   ]
  },
  {
   "cell_type": "code",
   "execution_count": 12,
   "metadata": {},
   "outputs": [],
   "source": [
    "# Given data - DO NOT MODIFY\n",
    "buildings = ['Office A', 'Retail B', 'School C', 'Hospital D', 'Apartment E']\n",
    "monthly_consumption = [85000, 62000, 48000, 125000, 71000]  # kWh\n",
    "floor_area = [2500, 1800, 3200, 4000, 2800]  # m^2"
   ]
  },
  {
   "cell_type": "code",
   "execution_count": 13,
   "metadata": {},
   "outputs": [
    {
     "name": "stdout",
     "output_type": "stream",
     "text": [
      "Office A: 85000 kWh / 2500 m^2 = 34.00 kWh/m^2/month\n",
      "Retail B: 62000 kWh / 1800 m^2 = 34.44 kWh/m^2/month\n",
      "School C: 48000 kWh / 3200 m^2 = 15.00 kWh/m^2/month\n",
      "Hospital D: 125000 kWh / 4000 m^2 = 31.25 kWh/m^2/month\n",
      "Apartment E: 71000 kWh / 2800 m^2 = 25.36 kWh/m^2/month\n"
     ]
    }
   ],
   "source": [
    "# Exercise 2A: Energy Intensity\n",
    "\n",
    "# TODO: Create empty list for energy intensity\n",
    "energy_intensity = []\n",
    "\n",
    "# TODO: Use for loop with enumerate to calculate intensity for each building\n",
    "for i, building in enumerate(buildings):\n",
    "    # Calculate intensity\n",
    "    intensity = monthly_consumption[i] / floor_area[i]\n",
    "    # With \"in enumerate\", we are able to match the index values to items [such as (0, \"Office A\")] and perform our calculation.\n",
    "    # Since the lists are ordered we can use the same index \"i\" matched with \"Office A\" to also access data from other lists.\n",
    "    # We divide the monthly energy consumption of a building by its matching floor area to find out how much kWh energy is used per square meter.\n",
    "\n",
    "    # Add to list\n",
    "    energy_intensity.append(intensity)\n",
    "    \n",
    "    # Print information\n",
    "    print(f\"{building}: {monthly_consumption[i]} kWh / {floor_area[i]} m^2 = {intensity:.2f} kWh/m^2/month\")"
   ]
  },
  {
   "cell_type": "markdown",
   "metadata": {},
   "source": [
    "### Part B: Statistical Analysis (8 points)\n",
    "\n",
    "Calculate statistics for the building dataset."
   ]
  },
  {
   "cell_type": "code",
   "execution_count": 14,
   "metadata": {},
   "outputs": [
    {
     "name": "stdout",
     "output_type": "stream",
     "text": [
      "==================================================\n",
      "Statistical Summary\n",
      "==================================================\n",
      "Total Monthly Consumption: 391,000 kWh\n",
      "Average Monthly Consumption: 78,200 kWh\n",
      "Maximum Monthly Consumption: 125,000 kWh\n",
      "Minimum Monthly Consumption: 48,000 kWh\n",
      "==================================================\n"
     ]
    }
   ],
   "source": [
    "# Exercise 2B: Statistical Analysis\n",
    "# TODO: Calculate total consumption\n",
    "total_consumption = sum(monthly_consumption)\n",
    "\n",
    "# TODO: Calculate average consumption\n",
    "average_consumption = total_consumption / len(monthly_consumption) # len() returns the number of items in a list, thus we can use it for averages\n",
    "\n",
    "# TODO: Find maximum and minimum\n",
    "max_consumption = max(monthly_consumption)\n",
    "min_consumption = min(monthly_consumption)\n",
    "\n",
    "# TODO: Print summary report\n",
    "print(\"=\" * 50)\n",
    "print(\"Statistical Summary\")\n",
    "print(\"=\" * 50)\n",
    "print(f\"Total Monthly Consumption: {total_consumption:,.0f} kWh\")\n",
    "print(f\"Average Monthly Consumption: {average_consumption:,.0f} kWh\")\n",
    "print(f\"Maximum Monthly Consumption: {max_consumption:,.0f} kWh\")\n",
    "print(f\"Minimum Monthly Consumption: {min_consumption:,.0f} kWh\")\n",
    "print(\"=\" * 50)"
   ]
  },
  {
   "cell_type": "markdown",
   "metadata": {},
   "source": [
    "### Part C: Find Buildings Above Average (7 points)\n",
    "\n",
    "Identify buildings with above-average consumption."
   ]
  },
  {
   "cell_type": "code",
   "execution_count": 15,
   "metadata": {},
   "outputs": [
    {
     "name": "stdout",
     "output_type": "stream",
     "text": [
      "\n",
      "Buildings with above-average consumption:\n",
      "['Office A', 'Hospital D']\n",
      "Count: 2 out of 5 buildings\n"
     ]
    }
   ],
   "source": [
    "# Exercise 2C: Buildings Above Average\n",
    "\n",
    "# TODO: Create list for buildings above average\n",
    "above_average = []\n",
    "\n",
    "# TODO: Use for loop with conditional to find buildings above average\n",
    "for i, building in enumerate(buildings):\n",
    "    if monthly_consumption[i] > average_consumption:\n",
    "        # Add to list\n",
    "        above_average.append(building)\n",
    "        # This clause adds the building part of the (i,building) pair to above_average lists \n",
    "        # only if its monthly consumption is > average [calculated utilizing the i part]\n",
    "        \n",
    "# TODO: Print results\n",
    "print(f\"\\nBuildings with above-average consumption:\")\n",
    "print(above_average)\n",
    "print(f\"Count: {len(above_average)} out of {len(buildings)} buildings\")"
   ]
  },
  {
   "cell_type": "markdown",
   "metadata": {},
   "source": [
    "---\n",
    "\n",
    "## Exercise 3: Energy Efficiency Classifier (25 points)\n",
    "\n",
    "Classify buildings based on their annual energy consumption per m².\n",
    "\n",
    "**Efficiency Ratings:**\n",
    "- A: < 50 kWh/m²/year (Excellent)\n",
    "- B: 50-100 kWh/m²/year (Good)\n",
    "- C: 100-150 kWh/m²/year (Average)\n",
    "- D: 150-200 kWh/m²/year (Poor)\n",
    "- F: > 200 kWh/m²/year (Very Poor)\n",
    "\n",
    "### Part A: Annual Energy Calculation (8 points)"
   ]
  },
  {
   "cell_type": "code",
   "execution_count": 16,
   "metadata": {},
   "outputs": [
    {
     "name": "stdout",
     "output_type": "stream",
     "text": [
      "Annual Energy Intensity:\n",
      "Office A: 408.00 kWh/m^2/year\n",
      "Retail B: 413.33 kWh/m^2/year\n",
      "School C: 180.00 kWh/m^2/year\n",
      "Hospital D: 375.00 kWh/m^2/year\n",
      "Apartment E: 304.29 kWh/m^2/year\n"
     ]
    }
   ],
   "source": [
    "# Exercise 3A: Annual Energy Calculation\n",
    "\n",
    "# TODO: Convert monthly intensity to annual (multiply by 12)\n",
    "annual_intensity = []\n",
    "\n",
    "for intensity in energy_intensity:\n",
    "    annual = intensity *12\n",
    "    annual_intensity.append(annual)\n",
    "    # We simply multiply each item with 12 and add it to a new list\n",
    "\n",
    "# TODO: Print each building with annual intensity\n",
    "print(\"Annual Energy Intensity:\")\n",
    "for i, building in enumerate(buildings):\n",
    "    print(f\"{building}: {annual_intensity[i]:.2f} kWh/m^2/year\")"
   ]
  },
  {
   "cell_type": "markdown",
   "metadata": {},
   "source": [
    "### Part B: Efficiency Classification (12 points)"
   ]
  },
  {
   "cell_type": "code",
   "execution_count": 17,
   "metadata": {},
   "outputs": [
    {
     "name": "stdout",
     "output_type": "stream",
     "text": [
      "\n",
      "============================================================\n",
      "Energy Efficiency Report\n",
      "============================================================\n",
      "Office A: 408.00 kWh/m^2/year - Rating: F\n",
      "Retail B: 413.33 kWh/m^2/year - Rating: F\n",
      "School C: 180.00 kWh/m^2/year - Rating: D\n",
      "Hospital D: 375.00 kWh/m^2/year - Rating: F\n",
      "Apartment E: 304.29 kWh/m^2/year - Rating: F\n"
     ]
    }
   ],
   "source": [
    "# Exercise 3B: Efficiency Classification\n",
    "\n",
    "# TODO: Create list for ratings\n",
    "ratings = []\n",
    "\n",
    "# TODO: Classify each building\n",
    "for i, building in enumerate(buildings):\n",
    "    intensity = annual_intensity[i]\n",
    "    \n",
    "    # Use if/elif/else to assign rating\n",
    "    if intensity < 50:\n",
    "        rating = 'A'\n",
    "    elif intensity < 100:\n",
    "        rating = 'B'\n",
    "    # TODO: Add more conditions for C, D, F\n",
    "    elif 100 <= intensity < 150:\n",
    "        rating = 'C'\n",
    "    elif 150 <= intensity < 200:\n",
    "        rating = 'D'\n",
    "    else:\n",
    "        rating = 'F'\n",
    "    ratings.append(rating)\n",
    "    # Since we append the rating values using the pre-ordered list [from building A to E]\n",
    "    # The end product ratings list will also follow that order\n",
    "\n",
    "# TODO: Print formatted report\n",
    "print(\"\\n\" + \"=\" * 60)\n",
    "print(\"Energy Efficiency Report\")\n",
    "print(\"=\" * 60)\n",
    "for i, building in enumerate(buildings):\n",
    "    print(f\"{building}: {annual_intensity[i]:.2f} kWh/m^2/year - Rating: {ratings[i]}\")"
   ]
  },
  {
   "cell_type": "markdown",
   "metadata": {},
   "source": [
    "### Part C: Rating Summary (5 points)"
   ]
  },
  {
   "cell_type": "code",
   "execution_count": 18,
   "metadata": {},
   "outputs": [
    {
     "name": "stdout",
     "output_type": "stream",
     "text": [
      "\n",
      "Rating Summary:\n",
      "  A (Excellent): 0\n",
      "  B (Good): 0\n",
      "  C (Average): 0\n",
      "  D (Poor): 1\n",
      "  F (Very Poor): 4\n",
      "============================================================\n",
      "Most common rating: F with 4 buildings.\n",
      "============================================================\n"
     ]
    }
   ],
   "source": [
    "# Exercise 3C: Rating Summary\n",
    "\n",
    "# TODO: Count buildings in each rating category\n",
    "count_a = ratings.count('A')\n",
    "count_b = ratings.count('B')\n",
    "count_c = ratings.count('C')\n",
    "count_d = ratings.count('D')\n",
    "count_f = ratings.count('F')\n",
    "# We use the .count function on the ratings list to assert how many times a value is included\n",
    "\n",
    "# TODO: Print summary\n",
    "print(\"\\nRating Summary:\")\n",
    "print(f\"  A (Excellent): {count_a}\")\n",
    "# Add more ratings\n",
    "print(f\"  B (Good): {count_b}\")\n",
    "print(f\"  C (Average): {count_c}\")\n",
    "print(f\"  D (Poor): {count_d}\")\n",
    "print(f\"  F (Very Poor): {count_f}\")\n",
    "\n",
    "# TODO: Find most common rating\n",
    "# Hint: You can create a dictionary or compare counts\n",
    "rating_counts_dict = {'A': count_a, 'B': count_b, 'C': count_c, 'D': count_d, 'F': count_f}\n",
    "# We create a dict as it allows for key - value mapping which will be useful in our case\n",
    "most_common_rating = max(rating_counts_dict, key=rating_counts_dict.get)\n",
    "# We use the \n",
    "# We need the key=.get arguement because normally max() in dicts return the max key value (in our case alphetically it's F), not the numerical count\n",
    "# However, thanks to the .get method we are able to access count values assigned to keys [It gets the value assigned to keys]\n",
    "most_common_count = rating_counts_dict[most_common_rating]\n",
    "# I use the value in most_common_rating variable as a key to look up its corresponding assigned value, in our case: the count, in the dictionary.\n",
    "print(\"=\" * 60)\n",
    "print(f\"Most common rating: {most_common_rating} with {most_common_count} buildings.\")\n",
    "print(\"=\" * 60)\n"
   ]
  },
  {
   "cell_type": "markdown",
   "metadata": {},
   "source": [
    "---\n",
    "\n",
    "## Exercise 4: Energy Cost Calculator (20 points)\n",
    "\n",
    "### Part A: Simple Cost Function (8 points)"
   ]
  },
  {
   "cell_type": "code",
   "execution_count": 19,
   "metadata": {},
   "outputs": [
    {
     "name": "stdout",
     "output_type": "stream",
     "text": [
      "Monthly cost for 50000 kWh at $0.12/kWh: $6,000.00\n"
     ]
    }
   ],
   "source": [
    "# Exercise 4A: Simple Cost Function\n",
    "\n",
    "def calculate_monthly_cost(consumption_kwh, rate_per_kwh):\n",
    "    \"\"\"\n",
    "    Calculate monthly energy cost.\n",
    "    \n",
    "    Parameters:\n",
    "        consumption_kwh (float): Monthly energy consumption in kWh\n",
    "        rate_per_kwh (float): Energy rate in USD/kWh\n",
    "    \n",
    "    Returns:\n",
    "        float: Monthly cost in USD\n",
    "    \"\"\"\n",
    "    # TODO: Calculate and return cost\n",
    "    cost = consumption_kwh * rate_per_kwh\n",
    "    return cost\n",
    "\n",
    "# TODO: Test the function\n",
    "test_consumption = 50000  # kWh\n",
    "test_rate = 0.12  # USD/kWh\n",
    "result = calculate_monthly_cost(test_consumption, test_rate)\n",
    "print(f\"Monthly cost for {test_consumption} kWh at ${test_rate}/kWh: ${result:,.2f}\")"
   ]
  },
  {
   "cell_type": "markdown",
   "metadata": {},
   "source": [
    "### Part B: Peak/Off-Peak Cost Function (12 points)"
   ]
  },
  {
   "cell_type": "code",
   "execution_count": 20,
   "metadata": {},
   "outputs": [
    {
     "name": "stdout",
     "output_type": "stream",
     "text": [
      "\n",
      "Tiered Pricing Analysis for 85000 kWh:\n",
      "Peak cost (60%): $7,650.00\n",
      "Off-peak cost (40%): $2,720.00\n",
      "Total cost: $10,370.00\n"
     ]
    }
   ],
   "source": [
    "# Exercise 4B: Peak/Off-Peak Cost Function\n",
    "\n",
    "def calculate_tiered_cost(total_consumption, peak_percentage=0.6):\n",
    "    \"\"\"\n",
    "    Calculate cost with peak/off-peak pricing.\n",
    "    \n",
    "    Parameters:\n",
    "        total_consumption (float): Total monthly consumption in kWh\n",
    "        peak_percentage (float): Fraction of consumption during peak hours (default 0.6)\n",
    "    \n",
    "    Returns:\n",
    "        tuple: (peak_cost, off_peak_cost, total_cost)\n",
    "    \"\"\"\n",
    "    peak_rate = 0.15  # USD/kWh\n",
    "    off_peak_rate = 0.08  # USD/kWh\n",
    "    \n",
    "    # TODO: Calculate peak consumption\n",
    "    peak_consumption = total_consumption * peak_percentage\n",
    "    \n",
    "    # TODO: Calculate off-peak consumption\n",
    "    off_peak_consumption = total_consumption * (1 - peak_percentage)\n",
    "    \n",
    "    # TODO: Calculate costs\n",
    "    peak_cost = peak_consumption * peak_rate\n",
    "    off_peak_cost = off_peak_consumption * off_peak_rate\n",
    "    total_cost = peak_cost + off_peak_cost\n",
    "    \n",
    "    return peak_cost, off_peak_cost, total_cost\n",
    "\n",
    "# TODO: Test the function\n",
    "test_consumption = 85000  # kWh\n",
    "peak_cost, off_peak_cost, total_cost = calculate_tiered_cost(test_consumption, 0.6)\n",
    "\n",
    "print(f\"\\nTiered Pricing Analysis for {test_consumption} kWh:\")\n",
    "print(f\"Peak cost (60%): ${peak_cost:,.2f}\")\n",
    "print(f\"Off-peak cost (40%): ${off_peak_cost:,.2f}\")\n",
    "print(f\"Total cost: ${total_cost:,.2f}\")"
   ]
  },
  {
   "cell_type": "markdown",
   "metadata": {},
   "source": [
    "---\n",
    "\n",
    "## Exercise 5: Challenge - Energy Optimization (10 points)\n",
    "\n",
    "### Part A: Most and Least Efficient Buildings (5 points)"
   ]
  },
  {
   "cell_type": "code",
   "execution_count": 21,
   "metadata": {},
   "outputs": [
    {
     "name": "stdout",
     "output_type": "stream",
     "text": [
      "============================================================\n",
      "Efficiency Comparison\n",
      "============================================================\n",
      "Most efficient: School C\n",
      "Intensity: 180.00 kWh/m^2/year\n",
      "Rating: D\n",
      "------------------------------------------------------------\n",
      "Least efficient: Retail B\n",
      "Intensity: 413.33 kWh/m^2/year\n",
      "Rating: F\n",
      "============================================================\n",
      "Percentage difference: 129.6%\n",
      "============================================================\n"
     ]
    }
   ],
   "source": [
    "# Exercise 5A: Most and Least Efficient\n",
    "\n",
    "# TODO: Find minimum and maximum annual intensity\n",
    "min_intensity = min(annual_intensity)\n",
    "max_intensity = max(annual_intensity)\n",
    "# Fairly simple procedure to find the min & max values from a list\n",
    "# I assigned them to distinct variables for easier use in the next part\n",
    "\n",
    "# TODO: Find which buildings these correspond to\n",
    "min_index = annual_intensity.index(min_intensity)\n",
    "max_index = annual_intensity.index(max_intensity)\n",
    "# Using the .index(\"Element\") function on a list, I am able to assert indexes of those elements\n",
    "\n",
    "# TODO: Get building names\n",
    "most_efficient = buildings[min_index]\n",
    "least_efficient = buildings[max_index]\n",
    "# I use said indexes to find their corresponding building names\n",
    "\n",
    "# TODO: Print results\n",
    "print(\"=\" * 60)\n",
    "print(\"Efficiency Comparison\")\n",
    "print(\"=\" * 60)\n",
    "print(f\"Most efficient: {most_efficient}\")\n",
    "print(f\"Intensity: {min_intensity:.2f} kWh/m^2/year\")\n",
    "print(f\"Rating: {ratings[min_index]}\")\n",
    "# Add least efficient\n",
    "print(\"-\" * 60)\n",
    "print(f\"Least efficient: {least_efficient}\")\n",
    "print(f\"Intensity: {max_intensity:.2f} kWh/m^2/year\")\n",
    "print(f\"Rating: {ratings[max_index]}\")\n",
    "print(\"=\" * 60)\n",
    "\n",
    "# TODO: Calculate percentage difference\n",
    "percentage_diff = ((max_intensity - min_intensity) / min_intensity) * 100 # Pretty standart formula for % differences\n",
    "print(f\"Percentage difference: {percentage_diff:.1f}%\")\n",
    "print(\"=\" * 60)"
   ]
  },
  {
   "cell_type": "markdown",
   "metadata": {},
   "source": [
    "### Part B: Energy Savings Potential (5 points)\n",
    "\n",
    "Calculate savings if all buildings achieved Rating B (100 kWh/m²/year)."
   ]
  },
  {
   "cell_type": "code",
   "execution_count": 22,
   "metadata": {},
   "outputs": [
    {
     "name": "stdout",
     "output_type": "stream",
     "text": [
      "\n",
      "============================================================\n",
      "Energy Savings Potential\n",
      "============================================================\n",
      "Target: Rating B (100 kWh/m^2/year)\n",
      "\n",
      "Office A: Could save 770,000 kWh/year\n",
      "Retail B: Could save 564,000 kWh/year\n",
      "School C: Could save 256,000 kWh/year\n",
      "Hospital D: Could save 1,100,000 kWh/year\n",
      "Apartment E: Could save 572,000 kWh/year\n",
      "\n",
      "Total Potential Savings: 3,262,000 kWh/year\n",
      "Annual Cost Savings: $391,440.00\n"
     ]
    }
   ],
   "source": [
    "# Exercise 5B: Energy Savings Potential\n",
    "\n",
    "target_intensity = 100  # kWh/m^2/year for Rating B\n",
    "total_savings_kwh = 0\n",
    "\n",
    "print(\"\\n\" + \"=\" * 60)\n",
    "print(\"Energy Savings Potential\")\n",
    "print(\"=\" * 60)\n",
    "print(f\"Target: Rating B ({target_intensity} kWh/m^2/year)\\n\")\n",
    "\n",
    "# TODO: Loop through buildings and calculate savings\n",
    "for i, building in enumerate(buildings):\n",
    "    # Check if building has worse rating than B (C, D, or F)\n",
    "    if annual_intensity[i] > target_intensity:\n",
    "        #This comparison is based on the unicode value of the character, thus, only alphabetically greater ones (C, D, F) are considered\n",
    "        \n",
    "        # Calculate current annual consumption\n",
    "        current_consumption = annual_intensity[i] * floor_area[i]\n",
    "        \n",
    "        # Calculate target consumption\n",
    "        target_consumption = target_intensity * floor_area[i]\n",
    "        \n",
    "        # Calculate savings\n",
    "        savings = current_consumption - target_consumption\n",
    "        \n",
    "        # Add to total\n",
    "        total_savings_kwh += savings\n",
    "        \n",
    "        print(f\"{building}: Could save {savings:,.0f} kWh/year\")\n",
    "\n",
    "# TODO: Calculate cost savings\n",
    "cost_savings = total_savings_kwh * standard_rate\n",
    "\n",
    "print(f\"\\nTotal Potential Savings: {total_savings_kwh:,.0f} kWh/year\")\n",
    "print(f\"Annual Cost Savings: ${cost_savings:,.2f}\")"
   ]
  },
  {
   "cell_type": "markdown",
   "metadata": {},
   "source": [
    "---\n",
    "\n",
    "## Bonus Challenge (Optional, +5 points)\n",
    "\n",
    "Create an interactive energy calculator that gets user input."
   ]
  },
  {
   "cell_type": "code",
   "execution_count": null,
   "metadata": {},
   "outputs": [
    {
     "name": "stdout",
     "output_type": "stream",
     "text": [
      "Interactive Building Energy Calculator\n",
      "============================================================\n"
     ]
    }
   ],
   "source": [
    "# Bonus: Interactive Energy Calculator\n",
    "\n",
    "# TODO: Create interactive program with input() and try/except\n",
    "# Use a while loop to allow multiple buildings\n",
    "# Handle errors gracefully\n",
    "\n",
    "# Starter code:\n",
    "print(\"Interactive Building Energy Calculator\")\n",
    "print(\"=\" * 60)\n",
    "\n",
    "while True:\n",
    "# Thanks to this while loop, we can continue until the break condition, thus, we can analyze multiple buildings.\n",
    "    # Get user input\n",
    "    name = input(\"\\nEnter building name (or 'quit' to exit): \")\n",
    "    \n",
    "    if name.lower() == 'quit':\n",
    "        print(\"Thank you for using the calculator!\")\n",
    "        break\n",
    "        # The code ends only when it is broken with \"break\" thanks to the while True statement\n",
    "    \n",
    "    try:\n",
    "    # We use the try block to counter errors\n",
    "    # If an error occurs within this block, no crash occurs, instead, it jumps to the except block where the error is handled gracefully. \n",
    "        # TODO: Get consumption and area from user\n",
    "        monthly_consumption = float(input(\"Enter monthly consumption (kWh): \"))\n",
    "        floor_area = float(input(\"Enter floor area (m^2): \"))\n",
    "        # TODO: Perform calculations\n",
    "        annual_intensity = (monthly_consumption / floor_area) * 12\n",
    "        # Determine efficiency rating\n",
    "        if annual_intensity < 50:\n",
    "            rating = 'A'\n",
    "        elif annual_intensity < 100:\n",
    "            rating = 'B'\n",
    "        elif annual_intensity < 150:\n",
    "            rating = 'C'\n",
    "        elif annual_intensity < 200:\n",
    "            rating = 'D'\n",
    "        else:\n",
    "            rating = 'F'\n",
    "        monthly_cost = calculate_tiered_cost(monthly_consumption, peak_percentage=0.6)\n",
    "        # TODO: Print formatted report\n",
    "        print(\"\\n\" + \"=\" * 30)\n",
    "        print(f\"Analysis for building {name}\")\n",
    "        print(\"=\" * 30)\n",
    "        print(f\"Monthly Consumption: {monthly_consumption:,.0f} kWh\")\n",
    "        print(f\"Floor Area: {floor_area:,.0f} m^2\")\n",
    "        print(f\"Energy Intensity: {annual_intensity:.2f} kWh/m^2/year\")\n",
    "        print(f\"Efficiency Rating: {rating}\")\n",
    "        print(f\"Monthly Cost (tiered): ${monthly_cost[2]:,.2f}\")\n",
    "        # We choose index 2 of the monthly_cost to access the total cost part\n",
    "        print(\"=\" * 30)\n",
    "        pass\n",
    "        # I think pass is just a placeholder but I decided to keep it for safety purposes as I think it is standard procedure.\n",
    "\n",
    "    except ValueError:\n",
    "        print(\"Error: Please enter valid numbers!\")\n",
    "    except Exception as e:\n",
    "        print(f\"Error: {e}\")"
   ]
  },
  {
   "cell_type": "markdown",
   "metadata": {},
   "source": [
    "---\n",
    "\n",
    "## Reflection Questions\n",
    "\n",
    "Answer these questions in the markdown cell below:\n",
    "\n",
    "1. What was the most challenging part of this lab?\n",
    "2. How could energy efficiency analysis help civil engineers in real projects?\n",
    "3. What additional features would make this calculator more useful?"
   ]
  },
  {
   "cell_type": "markdown",
   "metadata": {},
   "source": [
    "### Your Answers:\n",
    "\n",
    "1. Grasping \"in emurate\" structure + tackling the Bonus Challange\n",
    "\n",
    "2. The calculation allows for easier cost / benefit & performance analysis for retrofiting purposes\n",
    "\n",
    "3. The ability to break down data into distinct months / seasons to illustrate heating & cooling efficiencies of each building\n"
   ]
  },
  {
   "cell_type": "markdown",
   "metadata": {},
   "source": [
    "---\n",
    "\n",
    "## Submission Checklist\n",
    "\n",
    "Before submitting, make sure:\n",
    "- [✓] All code cells have been executed and show outputs\n",
    "- [✓] All TODO items have been completed\n",
    "- [✓] Code includes comments explaining your logic\n",
    "- [✓] Output is formatted clearly with appropriate decimal places\n",
    "- [✓] Reflection questions are answered\n",
    "- [✓] File is saved as `lab01_energy_calculator.ipynb`\n",
    "\n",
    "**Good luck! 🌟**"
   ]
  }
 ],
 "metadata": {
  "kernelspec": {
   "display_name": "Python 3 (ipykernel)",
   "language": "python",
   "name": "python3"
  },
  "language_info": {
   "codemirror_mode": {
    "name": "ipython",
    "version": 3
   },
   "file_extension": ".py",
   "mimetype": "text/x-python",
   "name": "python",
   "nbconvert_exporter": "python",
   "pygments_lexer": "ipython3",
   "version": "3.14.0"
  }
 },
 "nbformat": 4,
 "nbformat_minor": 4
}
